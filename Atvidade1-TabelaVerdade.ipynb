{
 "cells": [
  {
   "cell_type": "markdown",
   "id": "b09784e3",
   "metadata": {},
   "source": [
    "### Atividade Avaliativa 1 - Desenvolver um algoritmo em Python que gere a tabela-verdade que demostre a propriedade do Dilema Construtivo:\n",
    "## (DC) - ((𝒑 → 𝒒) ∧ (𝒓 → 𝒔) ∧ (𝒑 ∨ 𝒓)) → (𝒒 ∨ 𝒔)"
   ]
  },
  {
   "cell_type": "code",
   "execution_count": 14,
   "id": "e2a21907",
   "metadata": {},
   "outputs": [
    {
     "name": "stdout",
     "output_type": "stream",
     "text": [
      "  p    q    r    s   p->q   r->s    p∨r     (p→q)∧(r→s)∧(p∨r)      q∨s         ((p→q)∧(r→s)∧(p∨r))→(q∨s)        \n",
      "----------------------------------------------------------------------------------------------------\n",
      "  F    F    F    F     V      V      F              F               F                      V                    \n",
      "  F    F    F    V     V      V      F              F               V                      V                    \n",
      "  F    F    V    F     V      F      V              F               F                      V                    \n",
      "  F    F    V    V     V      V      V              V               V                      V                    \n",
      "  F    V    F    F     V      V      F              F               V                      V                    \n",
      "  F    V    F    V     V      V      F              F               V                      V                    \n",
      "  F    V    V    F     V      F      V              F               V                      V                    \n",
      "  F    V    V    V     V      V      V              V               V                      V                    \n",
      "  V    F    F    F     F      V      V              F               F                      V                    \n",
      "  V    F    F    V     F      V      V              F               V                      V                    \n",
      "  V    F    V    F     F      F      V              F               F                      V                    \n",
      "  V    F    V    V     F      V      V              F               V                      V                    \n",
      "  V    V    F    F     V      V      V              V               V                      V                    \n",
      "  V    V    F    V     V      V      V              V               V                      V                    \n",
      "  V    V    V    F     V      F      V              F               V                      V                    \n",
      "  V    V    V    V     V      V      V              V               V                      V                    \n"
     ]
    }
   ],
   "source": [
    "def implicacao(p, q):\n",
    "    return not p or q\n",
    "\n",
    "def traduzir_valor(valor):\n",
    "    return 'V' if valor else 'F'\n",
    "\n",
    "def tabela_verdade_dilema_construtivo():\n",
    "    print(f\"{'p':^5}{'q':^5}{'r':^5}{'s':^5}{'p->q':^7}{'r->s':^7}{'p∨r':^7}{'(p→q)∧(r→s)∧(p∨r)':^24}{'q∨s':^7}{'((p→q)∧(r→s)∧(p∨r))→(q∨s)':^40}\")\n",
    "    print(\"-\" * 100)\n",
    "    \n",
    "    for p in [False, True]:\n",
    "        for q in [False, True]:\n",
    "            for r in [False, True]:\n",
    "                for s in [False, True]:\n",
    "                    p_implica_q = implicacao(p, q)\n",
    "                    r_implica_s = implicacao(r, s)\n",
    "                    p_ou_r = p or r\n",
    "                    conjuncao = p_implica_q and r_implica_s and p_ou_r\n",
    "                    q_ou_s = q or s\n",
    "                    dilema_construtivo = implicacao(conjuncao, q_ou_s)\n",
    "                    \n",
    "                    print(f\"{traduzir_valor(p):^5}{traduzir_valor(q):^5}{traduzir_valor(r):^5}{traduzir_valor(s):^5}{traduzir_valor(p_implica_q):^7}{traduzir_valor(r_implica_s):^7}{traduzir_valor(p_ou_r):^7}{traduzir_valor(conjuncao):^24}{traduzir_valor(q_ou_s):^7}{traduzir_valor(dilema_construtivo):^40}\")\n",
    "\n",
    "tabela_verdade_dilema_construtivo()\n"
   ]
  },
  {
   "cell_type": "code",
   "execution_count": 15,
   "id": "f90efb18",
   "metadata": {},
   "outputs": [],
   "source": [
    "#Trabalho Finalizado!"
   ]
  }
 ],
 "metadata": {
  "kernelspec": {
   "display_name": "Python 3 (ipykernel)",
   "language": "python",
   "name": "python3"
  },
  "language_info": {
   "codemirror_mode": {
    "name": "ipython",
    "version": 3
   },
   "file_extension": ".py",
   "mimetype": "text/x-python",
   "name": "python",
   "nbconvert_exporter": "python",
   "pygments_lexer": "ipython3",
   "version": "3.11.7"
  }
 },
 "nbformat": 4,
 "nbformat_minor": 5
}
